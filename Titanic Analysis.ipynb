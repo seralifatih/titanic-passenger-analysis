{
 "cells": [
  {
   "cell_type": "markdown",
   "id": "5335e7b7",
   "metadata": {},
   "source": [
    "## This report aims to analyze the data for the Titanic survivors and to answer some questions regarding the profile of the passengers and which parameters may have contributed to the survival of some passengers. The data for this analysis is obtained from the [Udacity website](https://classroom.udacity.com/courses/ud170/lessons/5442503234/concepts/54545126720923) as part of the Final Project of their Intro to Data Analysis Course."
   ]
  },
  {
   "cell_type": "code",
   "execution_count": 24,
   "id": "df27a196",
   "metadata": {},
   "outputs": [
    {
     "name": "stdout",
     "output_type": "stream",
     "text": [
      "891\n"
     ]
    }
   ],
   "source": [
    "import pandas as pd\n",
    "import numpy as np\n",
    "\n",
    "titanic_reader = pd.read_csv('titanic_data.csv')\n",
    "\n",
    "number_of_passengers = len(titanic_reader['Name'])\n",
    "\n",
    "print(number_of_passengers)"
   ]
  },
  {
   "cell_type": "markdown",
   "id": "e94b1855",
   "metadata": {},
   "source": [
    "We have the information for 891 passengers out of the 2,208, who boarded the ship in 1909. However, there are also missing values for some passengers throughout the document and I will mention them during the analysis."
   ]
  },
  {
   "cell_type": "code",
   "execution_count": 46,
   "id": "38a3b4d4",
   "metadata": {},
   "outputs": [
    {
     "name": "stdout",
     "output_type": "stream",
     "text": [
      "male      577\n",
      "female    314\n",
      "Name: Sex, dtype: int64\n"
     ]
    }
   ],
   "source": [
    "gender_breakdown = titanic_reader['Sex'].value_counts()\n",
    "print(gender_breakdown)"
   ]
  },
  {
   "cell_type": "markdown",
   "id": "83497f45",
   "metadata": {},
   "source": [
    "When we look at some demographic data of these 891 passengers, we have 577 male passengers and 314 female passengers as can be seen from the above output. "
   ]
  },
  {
   "cell_type": "code",
   "execution_count": 42,
   "id": "fda744bd",
   "metadata": {},
   "outputs": [
    {
     "name": "stdout",
     "output_type": "stream",
     "text": [
      "The oldest passenger was 80 while the youngest passenger was 0 and the mean age of the 714 passengers, whose ages are available, is 29.\n"
     ]
    }
   ],
   "source": [
    "passengers_without_age = titanic_reader['Age'].isna().sum()\n",
    "\n",
    "passenger_with_age = number_of_passengers - passengers_without_age\n",
    "\n",
    "mean_passenger_age = titanic_reader['Age'].mean().astype(int)\n",
    "max_passenger_age = titanic_reader['Age'].max().astype(int)\n",
    "min_passenger_age = titanic_reader['Age'].min().astype(int)\n",
    "\n",
    "print(\"The oldest passenger was \" + str(max_passenger_age) + \" while the youngest passenger was \" + str(min_passenger_age) + \" and the mean age of the \" + str(passenger_with_age) + \" passengers, whose ages are available, is \" + str(mean_passenger_age) + \".\")"
   ]
  },
  {
   "cell_type": "markdown",
   "id": "60355836",
   "metadata": {},
   "source": [
    "It was already mentioned in the beginning that there are missing values in certain data fields and passenger age is one of them. Accordingly, the mean age of the 714 passengers, whose age information is available is 29 while the ages of the passengers range from babies in the first year of their lives to elderly with a maximum age of 80."
   ]
  },
  {
   "cell_type": "code",
   "execution_count": 27,
   "id": "7d9caf98",
   "metadata": {},
   "outputs": [],
   "source": [
    "titanic_reader.loc[:, 'Nanny'] = np.nan  # NaN's don't appear in value_counts()\n",
    "titanic_reader.loc[(titanic_reader['Age'] < 18) & (titanic_reader['Parch'] == 0), 'Nanny'] = \"Children traveling with nanny\"\n",
    "titanic_reader.loc[(titanic_reader['Age'] < 18) & (titanic_reader['Parch'] != 0), 'Nanny'] = \"Children traveling with parents\"\n",
    "\n",
    "titanic_children = titanic_reader.loc[titanic_reader['Age'] < 18, :].copy()\n",
    "titanic_children.loc[:, 'Nanny'] = np.where(titanic_children['Parch'] == 0, \"Children traveling with nanny\", \"Children traveling with parents\")"
   ]
  },
  {
   "cell_type": "code",
   "execution_count": 28,
   "id": "61d2258f",
   "metadata": {},
   "outputs": [
    {
     "data": {
      "text/plain": [
       "Children traveling with parents    81\n",
       "Children traveling with nanny      32\n",
       "Name: Nanny, dtype: int64"
      ]
     },
     "execution_count": 28,
     "metadata": {},
     "output_type": "execute_result"
    }
   ],
   "source": [
    "titanic_children['Nanny'].value_counts()"
   ]
  },
  {
   "cell_type": "markdown",
   "id": "ed7ee7e4",
   "metadata": {},
   "source": [
    "If we assume that any person below the age of 18, who has no parents traveling with them, to be traveling with a nanny, then our data shows us that 32 children were traveling with their nannies and the remaining 81 were traveling with their parents. But is there a correlation between traveling with a nanny or parent and surviving the Titanic?"
   ]
  },
  {
   "cell_type": "code",
   "execution_count": 29,
   "id": "1531b7bb",
   "metadata": {},
   "outputs": [],
   "source": [
    "titanic_reader['SurvivedN'] = None\n",
    "titanic_reader.loc[:, 'SurvivedN'] = np.nan\n",
    "titanic_reader.loc[(titanic_reader['Nanny'] == \"Children traveling with nanny\") & (titanic_reader['Survived'] == 1), 'SurvivedN'] = \"Survived with nanny\"\n",
    "titanic_reader.loc[(titanic_reader['Nanny'] == \"Children traveling with parents\") & (titanic_reader['Survived'] == 1), 'SurvivedN'] = \"Survived with parents\""
   ]
  },
  {
   "cell_type": "code",
   "execution_count": 40,
   "id": "bf94585f",
   "metadata": {},
   "outputs": [
    {
     "data": {
      "text/plain": [
       "Survived with parents    45\n",
       "Survived with nanny      16\n",
       "Name: SurvivedN, dtype: int64"
      ]
     },
     "execution_count": 40,
     "metadata": {},
     "output_type": "execute_result"
    }
   ],
   "source": [
    "titanic_reader['SurvivedN'].value_counts()"
   ]
  },
  {
   "cell_type": "markdown",
   "id": "4d01abee",
   "metadata": {},
   "source": [
    "According to the results shown above, exactly half of the children traveling with their nannies survived the Titanic. While the survival rate for children traveling with their parents is slightly higher, there doesn't seem to be a significant difference."
   ]
  },
  {
   "cell_type": "markdown",
   "id": "4e6f32e0",
   "metadata": {},
   "source": [
    "As we examine the survival rate of children, let's also see check the average age of the survivors. Maybe younger people could rush to the lifeboats before the elderly or the elderly were given priority, which led to their survival."
   ]
  },
  {
   "cell_type": "code",
   "execution_count": 38,
   "id": "3bb06811",
   "metadata": {},
   "outputs": [
    {
     "data": {
      "text/html": [
       "<div>\n",
       "<style scoped>\n",
       "    .dataframe tbody tr th:only-of-type {\n",
       "        vertical-align: middle;\n",
       "    }\n",
       "\n",
       "    .dataframe tbody tr th {\n",
       "        vertical-align: top;\n",
       "    }\n",
       "\n",
       "    .dataframe thead th {\n",
       "        text-align: right;\n",
       "    }\n",
       "</style>\n",
       "<table border=\"1\" class=\"dataframe\">\n",
       "  <thead>\n",
       "    <tr style=\"text-align: right;\">\n",
       "      <th></th>\n",
       "      <th>count</th>\n",
       "      <th>mean</th>\n",
       "      <th>std</th>\n",
       "      <th>min</th>\n",
       "      <th>25%</th>\n",
       "      <th>50%</th>\n",
       "      <th>75%</th>\n",
       "      <th>max</th>\n",
       "    </tr>\n",
       "    <tr>\n",
       "      <th>Survived</th>\n",
       "      <th></th>\n",
       "      <th></th>\n",
       "      <th></th>\n",
       "      <th></th>\n",
       "      <th></th>\n",
       "      <th></th>\n",
       "      <th></th>\n",
       "      <th></th>\n",
       "    </tr>\n",
       "  </thead>\n",
       "  <tbody>\n",
       "    <tr>\n",
       "      <th>Did not survive</th>\n",
       "      <td>424</td>\n",
       "      <td>30</td>\n",
       "      <td>14</td>\n",
       "      <td>1</td>\n",
       "      <td>21</td>\n",
       "      <td>28</td>\n",
       "      <td>39</td>\n",
       "      <td>74</td>\n",
       "    </tr>\n",
       "    <tr>\n",
       "      <th>Survived</th>\n",
       "      <td>290</td>\n",
       "      <td>28</td>\n",
       "      <td>14</td>\n",
       "      <td>0</td>\n",
       "      <td>19</td>\n",
       "      <td>28</td>\n",
       "      <td>36</td>\n",
       "      <td>80</td>\n",
       "    </tr>\n",
       "  </tbody>\n",
       "</table>\n",
       "</div>"
      ],
      "text/plain": [
       "                 count  mean  std  min  25%  50%  75%  max\n",
       "Survived                                                  \n",
       "Did not survive    424    30   14    1   21   28   39   74\n",
       "Survived           290    28   14    0   19   28   36   80"
      ]
     },
     "execution_count": 38,
     "metadata": {},
     "output_type": "execute_result"
    }
   ],
   "source": [
    "titanic_reader.loc[(titanic_reader['Survived'] == 1), \"Survived\"] = \"Survived\"\n",
    "titanic_reader.loc[(titanic_reader['Survived'] == 0), \"Survived\"] = \"Did not survive\"\n",
    "\n",
    "titanic_reader.groupby('Survived')['Age'].describe().astype(int)"
   ]
  },
  {
   "cell_type": "markdown",
   "id": "62caa0b0",
   "metadata": {},
   "source": [
    "We already determined above that the age data is available for only 714 passengers and as can be seen from the table above, the age aggregation of the passengers, who survived and did not survive is very similar. The minimum ages are almost the same and the oldest survivor is 80 years old, which suggests that age did not play a significant role in the survival of the passengers."
   ]
  },
  {
   "cell_type": "code",
   "execution_count": 36,
   "id": "ebacc359",
   "metadata": {},
   "outputs": [
    {
     "data": {
      "text/html": [
       "<div>\n",
       "<style scoped>\n",
       "    .dataframe tbody tr th:only-of-type {\n",
       "        vertical-align: middle;\n",
       "    }\n",
       "\n",
       "    .dataframe tbody tr th {\n",
       "        vertical-align: top;\n",
       "    }\n",
       "\n",
       "    .dataframe thead th {\n",
       "        text-align: right;\n",
       "    }\n",
       "</style>\n",
       "<table border=\"1\" class=\"dataframe\">\n",
       "  <thead>\n",
       "    <tr style=\"text-align: right;\">\n",
       "      <th></th>\n",
       "      <th>count</th>\n",
       "      <th>unique</th>\n",
       "      <th>top</th>\n",
       "      <th>freq</th>\n",
       "    </tr>\n",
       "    <tr>\n",
       "      <th>Pclass</th>\n",
       "      <th></th>\n",
       "      <th></th>\n",
       "      <th></th>\n",
       "      <th></th>\n",
       "    </tr>\n",
       "  </thead>\n",
       "  <tbody>\n",
       "    <tr>\n",
       "      <th>1</th>\n",
       "      <td>216</td>\n",
       "      <td>2</td>\n",
       "      <td>Survived</td>\n",
       "      <td>136</td>\n",
       "    </tr>\n",
       "    <tr>\n",
       "      <th>2</th>\n",
       "      <td>184</td>\n",
       "      <td>2</td>\n",
       "      <td>Did not survive</td>\n",
       "      <td>97</td>\n",
       "    </tr>\n",
       "    <tr>\n",
       "      <th>3</th>\n",
       "      <td>491</td>\n",
       "      <td>2</td>\n",
       "      <td>Did not survive</td>\n",
       "      <td>372</td>\n",
       "    </tr>\n",
       "  </tbody>\n",
       "</table>\n",
       "</div>"
      ],
      "text/plain": [
       "       count unique              top freq\n",
       "Pclass                                   \n",
       "1        216      2         Survived  136\n",
       "2        184      2  Did not survive   97\n",
       "3        491      2  Did not survive  372"
      ]
     },
     "execution_count": 36,
     "metadata": {},
     "output_type": "execute_result"
    }
   ],
   "source": [
    "titanic_reader.groupby('Pclass')['Survived'].describe()"
   ]
  },
  {
   "cell_type": "markdown",
   "id": "a1933515",
   "metadata": {},
   "source": [
    "When we look at any possible correlation between the ticket class and the survival rate, we can see a clear correlation between ticket class and survival rate. As you can see from the table above, an overwhelming majority of the passengers in the 3rd class did not survive that night. While the survival rate for the 2nd class passengers is a little lower than 50%, around 62% of the 1st class passengers survived Titanic. "
   ]
  }
 ],
 "metadata": {
  "kernelspec": {
   "display_name": "Python 3",
   "language": "python",
   "name": "python3"
  },
  "language_info": {
   "codemirror_mode": {
    "name": "ipython",
    "version": 3
   },
   "file_extension": ".py",
   "mimetype": "text/x-python",
   "name": "python",
   "nbconvert_exporter": "python",
   "pygments_lexer": "ipython3",
   "version": "3.9.0"
  }
 },
 "nbformat": 4,
 "nbformat_minor": 5
}
